{
 "cells": [
  {
   "cell_type": "code",
   "execution_count": null,
   "metadata": {},
   "outputs": [],
   "source": [
    "import os\n",
    "import sys\n",
    "import logging\n",
    "import gdown\n",
    "from zipfile import ZipFile"
   ]
  },
  {
   "cell_type": "code",
   "execution_count": null,
   "metadata": {},
   "outputs": [],
   "source": [
    "dataset_url = 'https://drive.google.com/u/1/uc?id=1gyom0ysZ3GauPWd26f3_Przw2VK3tXuD&export=download'\n",
    "dataset_name = 'subt-urban-coco-dataset'\n",
    "if not os.path.isdir(dataset_name):\n",
    "    gdown.download(dataset_url, output=dataset_name + '.zip', quiet=False)\n",
    "    zip1 = ZipFile(dataset_name + '.zip')\n",
    "    zip1.extractall(dataset_name)\n",
    "    zip1.close()\n",
    "\n",
    "print(\"Finished downloading dataset.\") "
   ]
  },
  {
   "cell_type": "code",
   "execution_count": null,
   "metadata": {},
   "outputs": [],
   "source": []
  }
 ],
 "metadata": {
  "kernelspec": {
   "display_name": "Python 3",
   "language": "python",
   "name": "python3"
  },
  "language_info": {
   "codemirror_mode": {
    "name": "ipython",
    "version": 3
   },
   "file_extension": ".py",
   "mimetype": "text/x-python",
   "name": "python",
   "nbconvert_exporter": "python",
   "pygments_lexer": "ipython3",
   "version": "3.6.9"
  }
 },
 "nbformat": 4,
 "nbformat_minor": 2
}
