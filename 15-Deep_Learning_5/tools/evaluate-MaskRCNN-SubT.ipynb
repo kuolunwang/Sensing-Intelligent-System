{
 "cells": [
  {
   "cell_type": "markdown",
   "metadata": {},
   "source": [
    "## Evaluate Detectron2 with Custom COCO Datasets"
   ]
  },
  {
   "cell_type": "code",
   "execution_count": null,
   "metadata": {},
   "outputs": [],
   "source": [
    "import detectron2\n",
    "from detectron2.utils.logger import setup_logger\n",
    "\n",
    "# import some common libraries\n",
    "import matplotlib.pyplot as plt\n",
    "import numpy as np\n",
    "import cv2\n",
    "import os \n",
    "import gdown\n",
    "import torch\n",
    "\n",
    "# import some common detectron2 utilities\n",
    "from detectron2.engine import DefaultPredictor\n",
    "from detectron2.config import get_cfg\n",
    "from detectron2.utils.visualizer import Visualizer\n",
    "from detectron2.data import MetadataCatalog, DatasetCatalog"
   ]
  },
  {
   "cell_type": "markdown",
   "metadata": {},
   "source": [
    "## Register your own data set in coco format"
   ]
  },
  {
   "cell_type": "code",
   "execution_count": null,
   "metadata": {},
   "outputs": [],
   "source": [
    "from detectron2.data.datasets import register_coco_instances\n",
    "\n",
    "register_coco_instances('subt_train', {}, \n",
    "                        '/home/arg/detectron2/datasets/subt-urban-coco-dataset/SubT_urban_train.json', \n",
    "                       '/home/arg/detectron2/datasets/subt-urban-coco-dataset/SubT_urban_train')\n",
    "register_coco_instances('subt_val', {}, \n",
    "                        '/home/arg/detectron2/datasets/subt-urban-coco-dataset/SubT_urban_val.json', \n",
    "                       '/home/arg/detectron2/datasets/subt-urban-coco-dataset/SubT_urban_val')"
   ]
  },
  {
   "cell_type": "code",
   "execution_count": null,
   "metadata": {},
   "outputs": [],
   "source": [
    "subt_metadata = MetadataCatalog.get(\"subt_val\")\n",
    "dataset_dicts = DatasetCatalog.get(\"subt_val\")\n",
    "subt_metadata"
   ]
  },
  {
   "cell_type": "code",
   "execution_count": null,
   "metadata": {},
   "outputs": [],
   "source": [
    "from detectron2.engine import DefaultTrainer\n",
    "from detectron2.config import get_cfg\n",
    "from detectron2 import model_zoo\n",
    "\n",
    "cfg = get_cfg()\n",
    "cfg.merge_from_file(model_zoo.get_config_file(\"COCO-InstanceSegmentation/mask_rcnn_R_50_FPN_3x.yaml\"))\n",
    "cfg.DATASETS.TRAIN = (\"subt_train\",)\n",
    "cfg.DATASETS.TEST = (\"subt_val\", )\n",
    "cfg.DATALOADER.NUM_WORKERS = 0 #Single thread\n",
    "cfg.MODEL.WEIGHTS = model_zoo.get_checkpoint_url(\"COCO-InstanceSegmentation/mask_rcnn_R_50_FPN_3x.yaml\")  # Let training initialize from model zoo\n",
    "cfg.MODEL.ROI_HEADS.NUM_CLASSES = 5  # datasets classes"
   ]
  },
  {
   "cell_type": "markdown",
   "metadata": {},
   "source": [
    "Now, let's run inference with the trained model on the validation dataset.  \n",
    "First, let's create a predictor using the model we trained."
   ]
  },
  {
   "cell_type": "code",
   "execution_count": null,
   "metadata": {},
   "outputs": [],
   "source": [
    "cfg.MODEL.WEIGHTS = os.path.join(cfg.OUTPUT_DIR, \"model_0096989.pth\")\n",
    "cfg.MODEL.ROI_HEADS.SCORE_THRESH_TEST = 0.7   # set the testing threshold for this model\n",
    "cfg.DATASETS.TEST = (\"subt_val\", )\n",
    "predictor = DefaultPredictor(cfg)\n",
    "trainer = DefaultTrainer(cfg)\n",
    "trainer.resume_or_load(False)"
   ]
  },
  {
   "cell_type": "markdown",
   "metadata": {},
   "source": [
    "Then, we randomly select several samples to visualize the prediction results."
   ]
  },
  {
   "cell_type": "code",
   "execution_count": null,
   "metadata": {},
   "outputs": [],
   "source": [
    "from detectron2.utils.visualizer import ColorMode\n",
    "import random\n",
    "\n",
    "for d in random.sample(dataset_dicts, 5):    \n",
    "    im = cv2.imread(d[\"file_name\"])\n",
    "    outputs = predictor(im)\n",
    "    v = Visualizer(im[:, :, ::-1],\n",
    "                   metadata=subt_metadata, \n",
    "                   scale=0.8, \n",
    "#                    instance_mode=ColorMode.IMAGE_BW   # remove the colors of unsegmented pixels\n",
    "    )\n",
    "    v = v.draw_instance_predictions(outputs[\"instances\"].to(\"cpu\"))\n",
    "    plt.imshow(v.get_image()[:, :, ::-1], cmap='nipy_spectral')"
   ]
  },
  {
   "cell_type": "markdown",
   "metadata": {},
   "source": [
    "We can also evaluate its performance using AP metric implemented in COCO API. This gives an AP of ~70%. Not bad!"
   ]
  },
  {
   "cell_type": "code",
   "execution_count": null,
   "metadata": {},
   "outputs": [],
   "source": [
    "from detectron2.evaluation import COCOEvaluator, inference_on_dataset\n",
    "from detectron2.data import build_detection_test_loader\n",
    "with torch.no_grad():\n",
    "    evaluator = COCOEvaluator(\"subt_val\", cfg, False, output_dir=\"./output/\")\n",
    "    val_loader = build_detection_test_loader(cfg, \"subt_val\")\n",
    "    inference_on_dataset(trainer.model, val_loader, evaluator)"
   ]
  },
  {
   "cell_type": "markdown",
   "metadata": {},
   "source": [
    "## Run segmentation on a video\n",
    "SubT Urban Alpha Course Configuration 1 Artifact : https://www.youtube.com/watch?v=T5M1zDDZy24  \n",
    "SubT Urban Alpha Course Configuration 2 Artifact : https://www.youtube.com/watch?v=mhNAX1dpl84  \n",
    "SubT Urban Beta Course Configuration 1 Artifact : https://www.youtube.com/watch?v=Amb1ghx8IRM  \n",
    "SubT Urban Beta Course Configuration 2 Artifact : https://www.youtube.com/watch?v=Eejmchll0l8\n"
   ]
  },
  {
   "cell_type": "code",
   "execution_count": 1,
   "metadata": {},
   "outputs": [
    {
     "data": {
      "image/jpeg": "[encoded data removed]",
      "text/html": [
       "\n",
       "        <iframe\n",
       "            width=\"500\"\n",
       "            height=\"300\"\n",
       "            src=\"https://www.youtube.com/embed/mhNAX1dpl84\"\n",
       "            frameborder=\"0\"\n",
       "            allowfullscreen\n",
       "        ></iframe>\n",
       "        "
      ],
      "text/plain": [
       "<IPython.lib.display.YouTubeVideo at 0x7f9cdc0f5b00>"
      ]
     },
     "metadata": {},
     "output_type": "display_data"
    }
   ],
   "source": [
    "from IPython.display import YouTubeVideo, display\n",
    "video = YouTubeVideo(\"mhNAX1dpl84\", width=500)\n",
    "display(video)"
   ]
  },
  {
   "cell_type": "markdown",
   "metadata": {},
   "source": [
    "Download video"
   ]
  },
  {
   "cell_type": "code",
   "execution_count": null,
   "metadata": {},
   "outputs": [],
   "source": [
    "!youtube-dl https://www.youtube.com/watch?v=Eejmchll0l8 -f 22 -o video.mp4"
   ]
  },
  {
   "cell_type": "markdown",
   "metadata": {},
   "source": [
    "Start predict video"
   ]
  },
  {
   "cell_type": "code",
   "execution_count": null,
   "metadata": {},
   "outputs": [],
   "source": [
    "!python /home/arg/detectron2/demo/demo.py \\\n",
    "--config-file /home/arg/detectron2/configs/COCO-InstanceSegmentation/mask_rcnn_R_50_FPN_3x.yaml \\\n",
    "--video-input video.mp4 --confidence-threshold 0.8 --output MaskRCNN-Beta-test.mkv \\\n",
    "--opts MODEL.WEIGHTS /home/arg/detectron2/tools/output/model_0096989.pth MODEL.ROI_HEADS.NUM_CLASSES 5 DATASETS.TEST \"('subt_val',)\" \\"
   ]
  }
 ],
 "metadata": {
  "kernelspec": {
   "display_name": "Python 3",
   "language": "python",
   "name": "python3"
  },
  "language_info": {
   "codemirror_mode": {
    "name": "ipython",
    "version": 3
   },
   "file_extension": ".py",
   "mimetype": "text/x-python",
   "name": "python",
   "nbconvert_exporter": "python",
   "pygments_lexer": "ipython3",
   "version": "3.6.9"
  }
 },
 "nbformat": 4,
 "nbformat_minor": 2
}
